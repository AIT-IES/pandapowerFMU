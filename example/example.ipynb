{
 "cells": [
  {
   "cell_type": "markdown",
   "metadata": {},
   "source": [
    "# pandapowerFMU: simple example"
   ]
  },
  {
   "cell_type": "markdown",
   "metadata": {},
   "source": [
    "This section shows an example on how to run a consecutive powerflow simulation using pandapower in a FMU.\n",
    "The following steps are needed and discussed in the following:\n",
    "1. create `pandapower` network as usual\n",
    "2. modify it by adding additional attributes (`profiles`, `result_file`, `fmi_input_vars`, `fmi_output_vars`, `time_step`)\n",
    "3. save the network to a file using `pickle`\n",
    "4. create an FMU using `createFMU` from `fmipp`\n",
    "5. run simulations using the FMU\n",
    "6. read and analyze results"
   ]
  },
  {
   "cell_type": "markdown",
   "metadata": {},
   "source": [
    "## install required packages"
   ]
  },
  {
   "cell_type": "markdown",
   "metadata": {},
   "source": [
    "The following packages are required:\n",
    "- `pandas` (https://pandas.pydata.org/) <br>\n",
    "- `pandapower` (https://pandapower.readthedocs.io/) <br>\n",
    "- `fmipp` (https://pypi.org/project/fmipp/) <br> \n",
    "\n",
    "Note that FMI++ should be installed from the PyPI as pre-compiled binary package (Python wheel):\n",
    "```powershell\n",
    "$ pip install fmipp --prefer-binary\n",
    "```"
   ]
  },
  {
   "cell_type": "markdown",
   "metadata": {},
   "source": [
    "## create pandapower network"
   ]
  },
  {
   "cell_type": "markdown",
   "metadata": {},
   "source": [
    "We use pandapower's [simple example network](https://pandapower.readthedocs.io/en/v1.5.1/networks/example.html#simple-example-network) and load it from pandapower's `networks` module. However, any other network (also custom built ones) could be used instead."
   ]
  },
  {
   "cell_type": "code",
   "execution_count": 1,
   "metadata": {
    "ExecuteTime": {
     "end_time": "2019-03-25T10:10:07.899134Z",
     "start_time": "2019-03-25T10:10:06.779189Z"
    }
   },
   "outputs": [],
   "source": [
    "import pandapower.networks as pn\n",
    "net = pn.example_simple()"
   ]
  },
  {
   "cell_type": "markdown",
   "metadata": {},
   "source": [
    "## add network attributes"
   ]
  },
  {
   "cell_type": "markdown",
   "metadata": {},
   "source": [
    "This is the most important step since we add information to make network parameters time dependent, on which input and output variables the FMU should have, where to store the results and when to run additional power flows. Note that all these attributes are optional."
   ]
  },
  {
   "cell_type": "markdown",
   "metadata": {},
   "source": [
    "### `profiles`"
   ]
  },
  {
   "cell_type": "markdown",
   "metadata": {},
   "source": [
    "The profiles attribute must be a `pandas.DataFrame` and needs to be added to the pandapower network object to make certain parameters time-dependent. The dataframe must have the following columns:\n",
    "- class (`string`): must be the name of a pandas dataframe in the pandapower network, e.g., 'load' or 'sgen'; also results dataframes can be used, e.g., 'res_load'\n",
    "- component (`string`): this is the name of the component, e.g., 'static generator 1'; be aware that this name must be unique within each class\n",
    "- parameter (`string`): the name of the parameter of the component that is time-dependent, e.g., 'p_mw' or 'q_mvar'\n",
    "- profile (`pandas.Series`): the time series profile where `index` and `value` pairs represent time and parameter value, respectively\n",
    "- file (`string`): the path to the file from which the profile should be loaded (file should not have headers and columns need to be seperated by commas); the first column in the file must be time (`float`); be aware that relative paths must be relative to the FMU's `resources` folder should therefore be added to the FMU using the `optional_files` when FMU is created\n",
    "- column (`int`): the column number in the file from which the profile should be loaded (`0` must be the time index); the values of the series should of course have the same `type` as the pandapower network parameter to which it is connected\n",
    "\n",
    "Note that when the profile is directly given in the profile column it will not be loaded from file again."
   ]
  },
  {
   "cell_type": "code",
   "execution_count": 2,
   "metadata": {
    "ExecuteTime": {
     "end_time": "2019-03-25T10:10:07.966310Z",
     "start_time": "2019-03-25T10:10:07.902140Z"
    }
   },
   "outputs": [
    {
     "data": {
      "text/html": [
       "<div>\n",
       "<style scoped>\n",
       "    .dataframe tbody tr th:only-of-type {\n",
       "        vertical-align: middle;\n",
       "    }\n",
       "\n",
       "    .dataframe tbody tr th {\n",
       "        vertical-align: top;\n",
       "    }\n",
       "\n",
       "    .dataframe thead th {\n",
       "        text-align: right;\n",
       "    }\n",
       "</style>\n",
       "<table border=\"1\" class=\"dataframe\">\n",
       "  <thead>\n",
       "    <tr style=\"text-align: right;\">\n",
       "      <th></th>\n",
       "      <th>class</th>\n",
       "      <th>component</th>\n",
       "      <th>parameter</th>\n",
       "      <th>file</th>\n",
       "      <th>column</th>\n",
       "      <th>profile</th>\n",
       "    </tr>\n",
       "  </thead>\n",
       "  <tbody>\n",
       "    <tr>\n",
       "      <th>0</th>\n",
       "      <td>sgen</td>\n",
       "      <td>static generator</td>\n",
       "      <td>p_mw</td>\n",
       "      <td>pvgen.csv</td>\n",
       "      <td>1</td>\n",
       "      <td>None</td>\n",
       "    </tr>\n",
       "    <tr>\n",
       "      <th>1</th>\n",
       "      <td>sgen</td>\n",
       "      <td>static generator</td>\n",
       "      <td>q_mvar</td>\n",
       "      <td>pvgen.csv</td>\n",
       "      <td>2</td>\n",
       "      <td>None</td>\n",
       "    </tr>\n",
       "    <tr>\n",
       "      <th>2</th>\n",
       "      <td>load</td>\n",
       "      <td>load</td>\n",
       "      <td>p_mw</td>\n",
       "      <td>None</td>\n",
       "      <td>None</td>\n",
       "      <td>0\n",
       "0.0         0.014101\n",
       "900.0       0.015678\n",
       "18...</td>\n",
       "    </tr>\n",
       "    <tr>\n",
       "      <th>3</th>\n",
       "      <td>load</td>\n",
       "      <td>load</td>\n",
       "      <td>q_mvar</td>\n",
       "      <td>None</td>\n",
       "      <td>None</td>\n",
       "      <td>0\n",
       "0.0         0.004635\n",
       "900.0       0.005153\n",
       "18...</td>\n",
       "    </tr>\n",
       "  </tbody>\n",
       "</table>\n",
       "</div>"
      ],
      "text/plain": [
       "  class         component parameter       file column  \\\n",
       "0  sgen  static generator      p_mw  pvgen.csv      1   \n",
       "1  sgen  static generator    q_mvar  pvgen.csv      2   \n",
       "2  load              load      p_mw       None   None   \n",
       "3  load              load    q_mvar       None   None   \n",
       "\n",
       "                                             profile  \n",
       "0                                               None  \n",
       "1                                               None  \n",
       "2  0\n",
       "0.0         0.014101\n",
       "900.0       0.015678\n",
       "18...  \n",
       "3  0\n",
       "0.0         0.004635\n",
       "900.0       0.005153\n",
       "18...  "
      ]
     },
     "execution_count": 2,
     "metadata": {},
     "output_type": "execute_result"
    }
   ],
   "source": [
    "import pandas as pd\n",
    "# create an empty dataframe with all necessary columns\n",
    "profiles = pd.DataFrame(columns=['class', 'component', 'parameter', 'file', 'column', 'profile'])\n",
    "# for the active and reactive power 'p_mw' and 'q_mvar' of 'static generator' with class 'sgen' the columns '1' and '2' from file 'pvgen.csv' should be used\n",
    "profiles.loc[0] = ['sgen', 'static generator', 'p_mw',  r'pvgen.csv', '1', None] \n",
    "profiles.loc[1] = ['sgen', 'static generator', 'q_mvar',  r'pvgen.csv', '2', None] \n",
    "# for the active and reactive power 'p_mw' and 'q_mvar' of 'load' with class 'load' we want to attach the series directly in the dataframe\n",
    "series_pkw = pd.read_csv('elload.csv', header=None, index_col=0, usecols=[0, 1])[1] # we load the series for active power from file ...\n",
    "profiles.loc[2] = ['load', 'load', 'p_mw', None, None, series_pkw] # ...and attach it as profile\n",
    "series_qkvar = pd.read_csv('elload.csv', header=None, index_col=0, usecols=[0, 2])[2] # we load the series for reactive power from file ...\n",
    "profiles.loc[3] = ['load', 'load', 'q_mvar', None, None, series_qkvar] # ...and attach it as profile\n",
    "# we pass the dataframe to the pandapower network\n",
    "net.profiles = profiles\n",
    "net.profiles"
   ]
  },
  {
   "cell_type": "markdown",
   "metadata": {},
   "source": [
    "### `result_file`"
   ]
  },
  {
   "cell_type": "markdown",
   "metadata": {},
   "source": [
    "The result_file attribute must be of type `string`. This is the path where the result file should be created. After each time step a result row is attached to this file containing all result dataframes from the pandapower network."
   ]
  },
  {
   "cell_type": "code",
   "execution_count": 3,
   "metadata": {
    "ExecuteTime": {
     "end_time": "2019-03-25T10:10:08.627055Z",
     "start_time": "2019-03-25T10:10:08.622041Z"
    }
   },
   "outputs": [
    {
     "data": {
      "text/plain": [
       "'C:\\\\Software\\\\pandapowerFMU\\\\example\\\\pandapower_results.csv'"
      ]
     },
     "execution_count": 3,
     "metadata": {},
     "output_type": "execute_result"
    }
   ],
   "source": [
    "import os\n",
    "net.result_file = os.path.join(os.getcwd(), 'pandapower_results.csv')\n",
    "net.result_file"
   ]
  },
  {
   "cell_type": "markdown",
   "metadata": {},
   "source": [
    "### `fmi_input_vars`"
   ]
  },
  {
   "cell_type": "markdown",
   "metadata": {},
   "source": [
    "The fmi_input_vars attribute must be of type `dict`. The dictonary keys must be one or more from `'Real'`, `'Integer'`, `'Boolean'` or `'String'` defining the type of input that is passed to the FMU. The input names must then be passed as `list` or `str`. The input names must thereby follow the following nameing convention `class.component.parameter`."
   ]
  },
  {
   "cell_type": "code",
   "execution_count": 4,
   "metadata": {
    "ExecuteTime": {
     "end_time": "2019-03-25T10:10:09.623687Z",
     "start_time": "2019-03-25T10:10:09.620680Z"
    }
   },
   "outputs": [],
   "source": [
    "fmi_input_vars = {}\n",
    "# active power generation 'p_mw' of 'generator' with class 'gen' is defined as input to the FMU\n",
    "fmi_input_vars['Real'] = ['gen.generator.p_mw'] \n",
    "# set network attribute\n",
    "net.fmi_input_vars = fmi_input_vars"
   ]
  },
  {
   "cell_type": "markdown",
   "metadata": {},
   "source": [
    "### `fmi_output_vars`"
   ]
  },
  {
   "cell_type": "markdown",
   "metadata": {},
   "source": [
    "The fmi_output_vars attribute must be of type `dict`. The dictonary keys must be one or more from `'Real'`, `'Integer'`, `'Boolean'` or `'String'` defining the type of input that is passed to the FMU. The input names must then be passed as `list` or `str`. The input names must thereby follow the following nameing convention `class.component.parameter`."
   ]
  },
  {
   "cell_type": "code",
   "execution_count": 5,
   "metadata": {
    "ExecuteTime": {
     "end_time": "2019-03-25T10:10:11.214908Z",
     "start_time": "2019-03-25T10:10:11.211895Z"
    }
   },
   "outputs": [],
   "source": [
    "fmi_output_vars = {}\n",
    "# active and reactive power generation 'p_mw' and 'q_mvar' of 'static generator' with class 'sgen' is defined as output of the FMU\n",
    "fmi_output_vars['Real'] = ['sgen.static generator.p_mw', 'sgen.static generator.q_mvar']\n",
    "# set network attribute\n",
    "net.fmi_output_vars = fmi_output_vars"
   ]
  },
  {
   "cell_type": "markdown",
   "metadata": {},
   "source": [
    "### `time_step`"
   ]
  },
  {
   "cell_type": "markdown",
   "metadata": {},
   "source": [
    "The `time_step` attribute must be of type `float`. It specifies the internal time step of the time series simulation. This means that at all times that are a multiple of `time_step` a power flow is done even if the FMU is not called at these times. This allows to update the FMU input parameters less frequently than, e.g., time series values."
   ]
  },
  {
   "cell_type": "code",
   "execution_count": 6,
   "metadata": {
    "ExecuteTime": {
     "end_time": "2019-03-25T10:10:12.431591Z",
     "start_time": "2019-03-25T10:10:12.428581Z"
    }
   },
   "outputs": [],
   "source": [
    "net.time_step = 1000.0"
   ]
  },
  {
   "cell_type": "markdown",
   "metadata": {},
   "source": [
    "## save network object"
   ]
  },
  {
   "cell_type": "markdown",
   "metadata": {},
   "source": [
    "To store the network object including all its attributes we use `pickle` as provided by pandapower. The file must end with `.p` in compliance with pandapower and to be found in the FMU later on."
   ]
  },
  {
   "cell_type": "code",
   "execution_count": 7,
   "metadata": {
    "ExecuteTime": {
     "end_time": "2019-03-25T10:10:13.571599Z",
     "start_time": "2019-03-25T10:10:13.547536Z"
    }
   },
   "outputs": [],
   "source": [
    "import pandapower as pp\n",
    "# path where to store file\n",
    "pandapower_net_file = os.path.join(os.getcwd(), 'test.p') \n",
    "# files with ending of '.p' are searched in FMU and first one found is loaded by FMU and used as pandapower network\n",
    "pp.to_pickle(net, pandapower_net_file)"
   ]
  },
  {
   "cell_type": "markdown",
   "metadata": {},
   "source": [
    "## create FMU"
   ]
  },
  {
   "cell_type": "markdown",
   "metadata": {},
   "source": [
    "Now we are ready to create an FMU using the saved pandapower network. Therefore, we must define the name of the FMU and specify all files that need to be stored within the FMU."
   ]
  },
  {
   "cell_type": "code",
   "execution_count": 8,
   "metadata": {
    "ExecuteTime": {
     "end_time": "2019-03-25T10:10:15.533779Z",
     "start_time": "2019-03-25T10:10:14.699576Z"
    }
   },
   "outputs": [
    {
     "name": "stdout",
     "output_type": "stream",
     "text": [
      "[DEBUG] Using FMI version 2\n",
      "[DEBUG] FMI model identifier: pandapowertest\n",
      "[DEBUG] Aditional files:\n",
      "\tC:\\Software\\pandapowerFMU\\example\\test.p\n",
      "\tpvgen.csv\n",
      "[DEBUG] Class 'PandapowerFMUClass' defined in file: C:\\Users\\PesendorferB\\AppData\\Local\\conda\\conda\\envs\\integrids\\lib\\site-packages\\pandapowerFMU\\PandapowerFMUClass.py\n",
      "init\n",
      "['gen.generator.p_mw']\n",
      "[DEBUG] FMI input variables:\n",
      "\tgen.generator.p_mw (Real)\n",
      "[DEBUG] FMI output variables:\n",
      "\tsgen.static generator.p_mw (Real)\n",
      "\tsgen.static generator.q_mvar (Real)\n",
      "[DEBUG] FMI parameters:\n",
      "[DEBUG] Added additional file to model description:  test.p\n",
      "[DEBUG] Added additional file to model description:  pvgen.csv\n",
      "[DEBUG] Created script for running the backend implementation:  run_backend_2f3b7af0-4ee6-11e9-8323-1c4d704d35f9.py\n",
      "[DEBUG] FMU created successfully: pandapowertest.fmu\n"
     ]
    }
   ],
   "source": [
    "from pandapowerFMU import PandapowerFMUClass\n",
    "from fmipp.export.createFMU import createFMU\n",
    "# define FMU model name\n",
    "model_name = 'pandapowertest'\n",
    "# specify all optional files; the stored pandapower network must be included together with all files that are referenced using a relative path.\n",
    "optional_files = [pandapower_net_file, 'pvgen.csv'] # we pass the stored network together with the file that contains the time series for 'static generator'\n",
    "# executing this function creates the FMU in the current working directory\n",
    "createFMU( PandapowerFMUClass, model_name, fmi_version = '2', verbose = True, optional_files = optional_files)"
   ]
  },
  {
   "cell_type": "markdown",
   "metadata": {},
   "source": [
    "## run simulation"
   ]
  },
  {
   "cell_type": "markdown",
   "metadata": {},
   "source": [
    "To run a simulation using the created FMU we use the [FMI++ package](https://pypi.org/project/fmipp/). First the FMU must be extracted."
   ]
  },
  {
   "cell_type": "code",
   "execution_count": 9,
   "metadata": {
    "ExecuteTime": {
     "end_time": "2019-03-25T10:10:16.870319Z",
     "start_time": "2019-03-25T10:10:16.803142Z"
    }
   },
   "outputs": [],
   "source": [
    "import fmipp\n",
    "# path to the FMU\n",
    "fmufile = os.path.join(os.getcwd(), model_name + '.fmu')\n",
    "# extract FMU in current working directory\n",
    "path_to_extracted_fmu = os.getcwd()\n",
    "uri_to_extracted_fmu = fmipp.extractFMU( fmufile, path_to_extracted_fmu) \n",
    "# we set logging on\n",
    "logging_on = True\n",
    "# create the fmu object\n",
    "fmu = fmipp.FMUCoSimulationV2( uri_to_extracted_fmu, model_name, logging_on )"
   ]
  },
  {
   "cell_type": "markdown",
   "metadata": {},
   "source": [
    "Now we instantiate and initialize the FMU. Thus, we need to set the start and end time of the simulation. "
   ]
  },
  {
   "cell_type": "code",
   "execution_count": 10,
   "metadata": {
    "ExecuteTime": {
     "end_time": "2019-03-25T10:10:19.618576Z",
     "start_time": "2019-03-25T10:10:17.916083Z"
    }
   },
   "outputs": [],
   "source": [
    "# set start time and end time\n",
    "t_start = 0.0\n",
    "t_end = 24 * 60 * 60\n",
    "# instantiate the FMU\n",
    "visible = True\n",
    "interactive = False\n",
    "status = fmu.instantiate( model_name, t_start, visible, interactive ) \n",
    "assert status == fmipp.fmiOK \n",
    "# initialize the FMU\n",
    "status = fmu.initialize(t_start, True, t_end)\n",
    "assert status == fmipp.fmiOK"
   ]
  },
  {
   "cell_type": "markdown",
   "metadata": {},
   "source": [
    "We run the simulation for the first half of the time period using a fixed step size `t_step_const` and set the active power of 'generator' to 1000 kW."
   ]
  },
  {
   "cell_type": "code",
   "execution_count": 11,
   "metadata": {
    "ExecuteTime": {
     "end_time": "2019-03-25T10:10:23.879883Z",
     "start_time": "2019-03-25T10:10:19.646661Z"
    }
   },
   "outputs": [],
   "source": [
    "import numpy as np\n",
    "t_sym = t_start\n",
    "t_step_const = 900.\n",
    "while t_sym - (t_start+(t_end-t_start)/2) < 1e-4:\n",
    "    # set active power 'p_kw' of 'generator' to 1 MW\n",
    "    fmu.setRealValue('gen.generator.p_mw', 1)\n",
    "    # Make co-simulation step.\n",
    "    new_step = True\n",
    "    status = fmu.doStep( t_sym, t_step_const, new_step )\n",
    "    assert status == fmipp.fmiOK\n",
    "    t_sym += t_step_const"
   ]
  },
  {
   "cell_type": "markdown",
   "metadata": {},
   "source": [
    " For the second half of the simulation we use a varying step size (uniformly distributed between 100 and 2000) and we linearly decrease the active power of 'generator' in order to reach 0 kW at the end of the simulation."
   ]
  },
  {
   "cell_type": "code",
   "execution_count": 12,
   "metadata": {
    "ExecuteTime": {
     "end_time": "2019-03-25T10:10:27.379065Z",
     "start_time": "2019-03-25T10:10:23.881833Z"
    }
   },
   "outputs": [],
   "source": [
    "while t_sym - t_end < 1e-4:  \n",
    "    # set active power 'p_mw' of 'generator' to 1/2*(t_end-t_start)*1.0 MW\n",
    "    power = 1.0 * 2 * (1-t_sym/t_end)\n",
    "    fmu.setRealValue('gen.generator.p_mw', power)\n",
    "    # Make co-simulation step.\n",
    "    t_step = np.random.uniform(low=100.0, high=2000.0)\n",
    "    new_step = True\n",
    "    status = fmu.doStep( t_sym, t_step, new_step )\n",
    "    assert status == fmipp.fmiOK\n",
    "    t_sym += t_step"
   ]
  },
  {
   "cell_type": "markdown",
   "metadata": {},
   "source": [
    "# read results"
   ]
  },
  {
   "cell_type": "markdown",
   "metadata": {},
   "source": [
    "Now we are ready to load and analyze the result file generated by the FMU. The best solution is to load it into a `pandas.DataFrame` using the first three rows as column index. The first level of the multi-index column corresponds to the `class` the second to the `component` and the third to the `parameter` and thus following the `class.component.parameter` convention."
   ]
  },
  {
   "cell_type": "code",
   "execution_count": 13,
   "metadata": {
    "ExecuteTime": {
     "end_time": "2019-03-25T10:10:27.414162Z",
     "start_time": "2019-03-25T10:10:27.384088Z"
    }
   },
   "outputs": [],
   "source": [
    "# read result files\n",
    "df_res = pd.read_csv(net.result_file, header=[0,1,2], index_col=0)"
   ]
  },
  {
   "cell_type": "markdown",
   "metadata": {},
   "source": [
    "Let's take a look at the parameters that were directly controlled using FMI inputs, i.e., `'gen.generator.p_kw'`."
   ]
  },
  {
   "cell_type": "code",
   "execution_count": 14,
   "metadata": {
    "ExecuteTime": {
     "end_time": "2019-03-25T10:10:27.693901Z",
     "start_time": "2019-03-25T10:10:27.417168Z"
    }
   },
   "outputs": [
    {
     "data": {
      "image/png": "[encoded data removed]",
      "text/plain": [
       "<Figure size 432x288 with 1 Axes>"
      ]
     },
     "metadata": {},
     "output_type": "display_data"
    }
   ],
   "source": [
    "import matplotlib.pyplot as plt\n",
    "%matplotlib inline\n",
    "# plot the relevant parameter\n",
    "df_res['gen']['generator']['p_mw'].plot()\n",
    "plt.show()"
   ]
  },
  {
   "cell_type": "markdown",
   "metadata": {},
   "source": [
    "We see that the inputs given at the different time steps were set accordingly. The input value stays constant for all power flows that are than internally as a result of setting `time_step`.\n",
    "\n",
    "Let us now compare the results for the time-series parameters that were passed through input files, i.e., `'sgen.static generator.p_mw'` and `'sgen.static generator.q_mvar'` with their original data in the files."
   ]
  },
  {
   "cell_type": "code",
   "execution_count": 15,
   "metadata": {
    "ExecuteTime": {
     "end_time": "2019-03-25T10:10:29.357337Z",
     "start_time": "2019-03-25T10:10:29.170798Z"
    }
   },
   "outputs": [
    {
     "data": {
      "image/png": "[encoded data removed]",
      "text/plain": [
       "<Figure size 432x288 with 1 Axes>"
      ]
     },
     "metadata": {},
     "output_type": "display_data"
    },
    {
     "data": {
      "image/png": "[encoded data removed]",
      "text/plain": [
       "<Figure size 432x288 with 1 Axes>"
      ]
     },
     "metadata": {},
     "output_type": "display_data"
    }
   ],
   "source": [
    "# plot the relevant parameter\n",
    "pd.read_csv('pvgen.csv', header=None, index_col=0, usecols=[0, 1])[1][t_start:t_end].plot() # load time series from file\n",
    "df_res['sgen']['static generator']['p_mw'].plot()\n",
    "plt.show()\n",
    "pd.read_csv('pvgen.csv', header=None, index_col=0, usecols=[0, 2])[2][t_start:t_end].plot() # load time series from file\n",
    "df_res['sgen']['static generator']['q_mvar'].plot()\n",
    "plt.show()"
   ]
  },
  {
   "cell_type": "markdown",
   "metadata": {},
   "source": [
    "We see differences in the active power paramter for the second half of the simulation. These differences are a result of the variable time step that was applied there. At times that were not included in the data file one-to-one, e.g., `t_sym = 40175.2` a linear interpolation was applied.\n",
    "\n",
    "Then, we compare the parameters that were passed directly as `pandas.Series` to the `profiles` dataframe, i.e., `'load.load.p_mw'` and `'load.load.q_mvar'`. However, here we need to take the scaling parameter into account that was set for this load, i.e., `net.load.iloc[0]['scaling']`"
   ]
  },
  {
   "cell_type": "code",
   "execution_count": 16,
   "metadata": {
    "ExecuteTime": {
     "end_time": "2019-03-25T10:10:31.703485Z",
     "start_time": "2019-03-25T10:10:31.699475Z"
    }
   },
   "outputs": [
    {
     "data": {
      "text/plain": [
       "0.6"
      ]
     },
     "execution_count": 16,
     "metadata": {},
     "output_type": "execute_result"
    }
   ],
   "source": [
    "net.load.iloc[0]['scaling']"
   ]
  },
  {
   "cell_type": "code",
   "execution_count": 17,
   "metadata": {
    "ExecuteTime": {
     "end_time": "2019-03-25T10:10:32.772307Z",
     "start_time": "2019-03-25T10:10:32.554732Z"
    }
   },
   "outputs": [
    {
     "data": {
      "image/png": "[encoded data removed]",
      "text/plain": [
       "<Figure size 432x288 with 1 Axes>"
      ]
     },
     "metadata": {},
     "output_type": "display_data"
    },
    {
     "data": {
      "image/png": "[encoded data removed]",
      "text/plain": [
       "<Figure size 432x288 with 1 Axes>"
      ]
     },
     "metadata": {},
     "output_type": "display_data"
    }
   ],
   "source": [
    "# plot the relevant parameter\n",
    "(pd.read_csv('elload.csv', header=None, index_col=0, usecols=[0, 1])[1][t_start:t_end]*net.load.iloc[0]['scaling']).plot() # load time series from file\n",
    "df_res['load']['load']['p_mw'].plot()\n",
    "plt.show()\n",
    "(pd.read_csv('elload.csv', header=None, index_col=0, usecols=[0, 2])[2][t_start:t_end]*net.load.iloc[0]['scaling']).plot() # load time series from file\n",
    "df_res['load']['load']['q_mvar'].plot()\n",
    "plt.show()"
   ]
  },
  {
   "cell_type": "markdown",
   "metadata": {},
   "source": [
    "Again we see that the series correspond perfectly for the first half of the simulation where a constant time step that corresponds with the time step of the data. For the second half we see differences as a result of the variable time step. \n",
    "\n",
    "And finally we check if results are included for all multiples of `time_step`."
   ]
  },
  {
   "cell_type": "code",
   "execution_count": 18,
   "metadata": {
    "ExecuteTime": {
     "end_time": "2019-03-25T10:10:34.455753Z",
     "start_time": "2019-03-25T10:10:34.450740Z"
    }
   },
   "outputs": [
    {
     "data": {
      "text/plain": [
       "True"
      ]
     },
     "execution_count": 18,
     "metadata": {},
     "output_type": "execute_result"
    }
   ],
   "source": [
    "all([t in df_res.index for t in np.arange(t_start, t_end, net.time_step)])"
   ]
  }
 ],
 "metadata": {
  "kernelspec": {
   "display_name": "Python 3",
   "language": "python",
   "name": "python3"
  },
  "language_info": {
   "codemirror_mode": {
    "name": "ipython",
    "version": 3
   },
   "file_extension": ".py",
   "mimetype": "text/x-python",
   "name": "python",
   "nbconvert_exporter": "python",
   "pygments_lexer": "ipython3",
   "version": "3.6.6"
  },
  "latex_envs": {
   "LaTeX_envs_menu_present": true,
   "autoclose": false,
   "autocomplete": true,
   "bibliofile": "biblio.bib",
   "cite_by": "apalike",
   "current_citInitial": 1,
   "eqLabelWithNumbers": true,
   "eqNumInitial": 1,
   "hotkeys": {
    "equation": "Ctrl-E",
    "itemize": "Ctrl-I"
   },
   "labels_anchors": false,
   "latex_user_defs": false,
   "report_style_numbering": false,
   "user_envs_cfg": false
  },
  "toc": {
   "nav_menu": {
    "height": "12px",
    "width": "174px"
   },
   "number_sections": true,
   "sideBar": true,
   "skip_h1_title": false,
   "toc_cell": false,
   "toc_position": {},
   "toc_section_display": "block",
   "toc_window_display": false
  }
 },
 "nbformat": 4,
 "nbformat_minor": 2
}
